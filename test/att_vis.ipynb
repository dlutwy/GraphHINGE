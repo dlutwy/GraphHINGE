{
 "cells": [
  {
   "cell_type": "code",
   "execution_count": 1,
   "metadata": {},
   "outputs": [
    {
     "name": "stderr",
     "output_type": "stream",
     "text": [
      "Using backend: pytorch\n"
     ]
    }
   ],
   "source": [
    "import torch\n",
    "import torch.nn as nn\n",
    "import torch.nn.functional as F\n",
    "import os\n",
    "import sys\n",
    "import gc\n",
    "sys.path.append(\"..\")\n",
    "\n",
    "from utils import data_loader,utils\n",
    "import argparse\n",
    "import random\n",
    "import pickle as pkl\n",
    "from tqdm import tqdm\n",
    "import datetime\n",
    "from time import time\n",
    "from algo import GraphHINGE_FFT,GraphHINGE_Conv,GraphHINGE_Cross,GraphHINGE_CrossConv,GraphHINGE_ALL, GraphHINGE_ConvALL\n",
    "from tensorboardX import SummaryWriter\n",
    "import numpy as np\n"
   ]
  },
  {
   "cell_type": "code",
   "execution_count": 61,
   "metadata": {},
   "outputs": [],
   "source": [
    "import matplotlib.pyplot as plt\n",
    "import seaborn as sns\n",
    "\n",
    "plt.rcParams['font.sans-serif'] = ['SimHei']  # 中文字体设置-黑体\n",
    "plt.rcParams['axes.unicode_minus'] = False  # 解决保存图像是负号'-'显示为方块的问题\n",
    "sns.set(font='SimHei')  # 解决Seaborn中文显示问题\n"
   ]
  },
  {
   "cell_type": "markdown",
   "metadata": {},
   "source": [
    "# read drug & disease dict"
   ]
  },
  {
   "cell_type": "code",
   "execution_count": 3,
   "metadata": {},
   "outputs": [],
   "source": [
    "drugs = []\n",
    "diseases = []\n",
    "with open(\"../data/DDdataset-Raw/drug_dict\") as f:\n",
    "    for line in f:\n",
    "        drugs.append(line.strip())\n",
    "with open(\"../data/DDdataset-Raw/disease_dict\") as f:\n",
    "    for line in f:\n",
    "        diseases.append(line.strip())\n",
    "        \n",
    "drug2disease = {}\n",
    "disease2drug = {}\n",
    "with open(\"../data/DDdataset/drugDisease.txt\") as f:\n",
    "    for line in f:\n",
    "        drug, disease = line.strip().split('\\t')\n",
    "        drug, disease = int(drug), int(disease)\n",
    "        drug2disease.setdefault(drug, set())\n",
    "        drug2disease[drug].add(disease)\n",
    "        disease2drug.setdefault(disease, set())\n",
    "        disease2drug[disease].add(drug)\n",
    "        "
   ]
  },
  {
   "cell_type": "markdown",
   "metadata": {},
   "source": [
    "# read infer result"
   ]
  },
  {
   "cell_type": "code",
   "execution_count": 4,
   "metadata": {},
   "outputs": [],
   "source": [
    "from collections import namedtuple\n",
    "UI = namedtuple(\"UI\", ['user', 'item', 'prob'])\n"
   ]
  },
  {
   "cell_type": "code",
   "execution_count": 5,
   "metadata": {},
   "outputs": [],
   "source": [
    "predicts = []\n",
    "with open(\"../out/inference/2021-06-03_09-40-07.csv\") as f:\n",
    "    for line in f:\n",
    "        user, item, prob = line.strip().split('\\t')\n",
    "        ui = UI(int(user)-1, int(item) -1, float(prob))\n",
    "        predicts.append(ui)\n",
    "predicts = sorted(predicts, key = lambda ui : ui.prob, reverse = True)"
   ]
  },
  {
   "cell_type": "code",
   "execution_count": 6,
   "metadata": {},
   "outputs": [
    {
     "data": {
      "text/plain": [
       "(0, 1228, 0, 1518)"
      ]
     },
     "execution_count": 6,
     "metadata": {},
     "output_type": "execute_result"
    }
   ],
   "source": [
    "min_u, min_i = 9999, 9999\n",
    "max_u, max_i = 0, 0\n",
    "for ui in predicts:\n",
    "    u = ui.user\n",
    "    min_u = min(min_u, u)\n",
    "    max_u = max(max_u, u)\n",
    "    i = ui.item\n",
    "    min_i = min(min_i, i)\n",
    "    max_i = max(max_i, i)\n",
    "min_u, max_u, min_i, max_i"
   ]
  },
  {
   "cell_type": "code",
   "execution_count": 7,
   "metadata": {},
   "outputs": [],
   "source": [
    "assert len(diseases) -1 == max_u\n",
    "assert len(drugs) - 1 == max_i"
   ]
  },
  {
   "cell_type": "markdown",
   "metadata": {},
   "source": [
    "## print predict"
   ]
  },
  {
   "cell_type": "code",
   "execution_count": 62,
   "metadata": {},
   "outputs": [
    {
     "data": {
      "text/plain": [
       "UI(user=877, item=1330, prob=0.9999949932098389)"
      ]
     },
     "execution_count": 62,
     "metadata": {},
     "output_type": "execute_result"
    }
   ],
   "source": [
    "predicts[0]"
   ]
  },
  {
   "cell_type": "code",
   "execution_count": 63,
   "metadata": {
    "scrolled": false
   },
   "outputs": [
    {
     "name": "stdout",
     "output_type": "stream",
     "text": [
      "C1318973:Staphylococcus aureus infection\tDB01327:Cefazolin\t0.9999949932098389\n",
      "UI(user=877, item=1330, prob=0.9999949932098389)\n"
     ]
    },
    {
     "data": {
      "text/plain": [
       "1"
      ]
     },
     "execution_count": 63,
     "metadata": {},
     "output_type": "execute_result"
    }
   ],
   "source": [
    "cnt = 0\n",
    "for ui in predicts:    \n",
    "#     if ui.prob < 0.999:\n",
    "#         break\n",
    "#     if ui.user != 962:\n",
    "#         continue\n",
    "    print(diseases[ui.user], drugs[ui.item], f\"{ui.prob}\", sep = '\\t')\n",
    "    print(ui)\n",
    "    cnt +=1\n",
    "    break\n",
    "cnt"
   ]
  },
  {
   "cell_type": "markdown",
   "metadata": {},
   "source": [
    "# model init"
   ]
  },
  {
   "cell_type": "code",
   "execution_count": 9,
   "metadata": {},
   "outputs": [
    {
     "data": {
      "text/plain": [
       "_StoreTrueAction(option_strings=['-use_tensorboard'], dest='use_tensorboard', nargs=0, const=True, default=False, type=None, choices=None, help=None, metavar=None)"
      ]
     },
     "execution_count": 9,
     "metadata": {},
     "output_type": "execute_result"
    }
   ],
   "source": [
    "parser = argparse.ArgumentParser(description='Parameters.')\n",
    "parser.add_argument('-cuda', type=str, default='cpu' ,help='Cuda number.')\n",
    "parser.add_argument('-hidden', type=int, default=128, help='Hidden Units.')\n",
    "parser.add_argument('-heads', type=int, default=3, help='Attention heads.')\n",
    "parser.add_argument('-lr', type=float, default=0.001, help='Learning rate.')\n",
    "parser.add_argument('-wd', type=float, default=0.0009, help='Weight decay.')\n",
    "parser.add_argument('-epochs', type=int, default=500,help='Maximum Epoch.')\n",
    "\n",
    "parser.add_argument('-model', type=str, default='GraphHINGE_FFT',help='Model.')\n",
    "parser.add_argument('-save_dir', type=str, default='../out',help='Trained models to be saved.')\n",
    "parser.add_argument('-pretrained', type=str, default='pretrained.pth',help='Load a model from breakpoint.')\n",
    "\n",
    "parser.add_argument('-d', type=str,help='Dataset.')\n",
    "parser.add_argument('-p', type=str,help='Dataset path.')\n",
    "parser.add_argument('-o', type=str,default='../data/data_out',help='Output path.')\n",
    "parser.add_argument('-b', type=int, default=128, help='Batch size.')\n",
    "parser.add_argument('-s', type=int,default=0, help='Sample path to be saved.')\n",
    "parser.add_argument('-n', type=int, default=16,help='Num of walks per node.')\n",
    "parser.add_argument('-w', type=int, default=1,help='Scale of walk length.')\n",
    "parser.add_argument('-temp1', type=float, default=0.2, help='Temperature factor for node att.')\n",
    "parser.add_argument('-temp2', type=float, default=0.2, help='Temperature factor for path att.')\n",
    "parser.add_argument('-ratio', type=float, default=1, help='Sample ratio.')\n",
    "parser.add_argument('-train', action= \"store_true\", default= False,help='If false, model will be loaded from the latest saved one.')\n",
    "parser.add_argument('-usersid', type=int, action=\"append\", default=None, help='Specify users id to inference. Default all users.')\n",
    "parser.add_argument('-itemsid', type=int, action=\"append\", default=None, help='Specify items id to inference. Default all items.')\n",
    "parser.add_argument('-inference', action= \"store_true\", default=False,help='Inference stage. (Train All data and inference new links between users and items)')\n",
    "parser.add_argument('-model_state_file', type=str,default = None, help='Load model state file to infer')\n",
    "parser.add_argument('-use_tensorboard', action= \"store_true\",default = False)"
   ]
  },
  {
   "cell_type": "code",
   "execution_count": 10,
   "metadata": {},
   "outputs": [],
   "source": [
    "args = [\n",
    "                \"-d\", \"movielens\"\n",
    "                ,\"-p\",\"../data/Movielens\"\n",
    "#                 ,\"-cuda\", \"cpu\"#\"cuda:0\"\n",
    "                ,\"-cuda\", \"cuda:0\"\n",
    "                ,\"-epochs\",\"300\"\n",
    "                ,\"-b\",\"1\"\n",
    "                ,\"-model_state_file\", \"NotFFTGraphHINGE_FFT_movielens_train_lr_0.001_bs_128_wd_0.0009.pth\"\n",
    "            ]\n",
    "args = parser.parse_args(args=args)"
   ]
  },
  {
   "cell_type": "code",
   "execution_count": 11,
   "metadata": {},
   "outputs": [],
   "source": [
    "args = [\n",
    "                \"-d\", \"drug\"\n",
    "                ,\"-p\",\"../data/DDdataset\"\n",
    "                ,\"-cuda\",\"cpu\"#\"cuda:0\"\n",
    "                ,\"-epochs\",\"70\"\n",
    "                ,\"-b\",\"1\"\n",
    "                ,\"-train\"\n",
    "                ,\"-n\", \"13\"\n",
    "                ,\"-inference\"\n",
    "                ,\"-model_state_file\", \"NotFFTGraphHINGE_FFT_drug_inference_Nofold_lr_0.001_bs_128_wd_0.0009.pth\"\n",
    "            ]\n",
    "args = parser.parse_args(args=args)\n",
    "args.o += \"_inference\" if args.inference else \"\""
   ]
  },
  {
   "cell_type": "code",
   "execution_count": 12,
   "metadata": {},
   "outputs": [],
   "source": [
    "usersid = [877]\n",
    "itemsid = [1330]"
   ]
  },
  {
   "cell_type": "code",
   "execution_count": 13,
   "metadata": {},
   "outputs": [
    {
     "name": "stdout",
     "output_type": "stream",
     "text": [
      "Graph Loaded.\n",
      "Train, Inference loaded.\n",
      "Load paths from:\n",
      "DrugRepurpose_user_13_1.pkl\n",
      "DrugRepurpose_item_13_1.pkl\n",
      "0\n"
     ]
    }
   ],
   "source": [
    "i = 0\n",
    "for user_metas, item_metas, train_loader, eval_loader, test_loader, user_num, item_num, attr1_num, attr2_num, attr3_num in \\\n",
    "    data_loader.Dataloader(args.p, args.d, args.o, args.s, args.n, args.w, args.b, args.inference,ratio=args.ratio,\n",
    "                           usersid = usersid,\n",
    "                           itemsid = itemsid).load_data():\n",
    "        print(i)\n",
    "        i += 1\n",
    "device = torch.device(args.cuda)"
   ]
  },
  {
   "cell_type": "code",
   "execution_count": 14,
   "metadata": {},
   "outputs": [],
   "source": [
    "if args.model == 'GraphHINGE_FFT':\n",
    "    model = GraphHINGE_FFT.GraphHINGE(\n",
    "        user_num, item_num, attr1_num, attr2_num, attr3_num, args.hidden, args.hidden, args.hidden, args.heads, args.temp1, args.temp2, output_attentions= True\n",
    "        ).to(device)\n",
    "elif args.model == 'GraphHINGE_Conv':\n",
    "    model = GraphHINGE_Conv.GraphHINGE(\n",
    "        user_num, item_num, attr1_num, attr2_num, attr3_num, args.hidden, args.hidden, args.hidden, args.heads, args.temp1, args.temp2\n",
    "        ).to(device)\n",
    "elif args.model == 'GraphHINGE_Cross':\n",
    "    model = GraphHINGE_Cross.GraphHINGE(\n",
    "        user_num, item_num, attr1_num, attr2_num, attr3_num, args.hidden, args.hidden, args.hidden, args.heads, args.temp1, args.temp2\n",
    "        ).to(device)\n",
    "elif args.model == 'GraphHINGE_CrossConv':\n",
    "    model = GraphHINGE_CrossConv.GraphHINGE(\n",
    "        user_num, item_num, attr1_num, attr2_num, attr3_num, args.hidden, args.hidden, args.hidden, args.heads, args.temp1, args.temp2\n",
    "        ).to(device)\n",
    "elif args.model == 'GraphHINGE_ALL':\n",
    "    model = GraphHINGE_ALL.GraphHINGE(\n",
    "        user_num, item_num, attr1_num, attr2_num, attr3_num, args.hidden, args.hidden, args.hidden, args.heads, args.temp1, args.temp2\n",
    "        ).to(device)\n",
    "elif args.model == 'GraphHINGE_ConvALL':\n",
    "    model = GraphHINGE_ConvALL.GraphHINGE(\n",
    "        user_num, item_num, attr1_num, attr2_num, attr3_num, args.hidden, args.hidden, args.hidden, args.heads, args.temp1, args.temp2\n",
    "        ).to(device)\n",
    "else:\n",
    "    raise NotImplementedError"
   ]
  },
  {
   "cell_type": "code",
   "execution_count": 15,
   "metadata": {},
   "outputs": [
    {
     "data": {
      "text/plain": [
       "<All keys matched successfully>"
      ]
     },
     "execution_count": 15,
     "metadata": {},
     "output_type": "execute_result"
    }
   ],
   "source": [
    "model_name = '_'.join([args.model, \n",
    "        args.d, (\"inference\" if args.inference else \"train\"),\n",
    "        \"lr_\"+str(args.lr), \"bs_\"+str(args.b), \"wd_\"+str(args.wd)]) + '.pth' \\\n",
    "    if args.model_state_file is None \\\n",
    "    else args.model_state_file \n",
    "model.load_state_dict(torch.load(os.path.join(args.save_dir, model_name), map_location = device))"
   ]
  },
  {
   "cell_type": "markdown",
   "metadata": {},
   "source": [
    "## infer"
   ]
  },
  {
   "cell_type": "code",
   "execution_count": 16,
   "metadata": {},
   "outputs": [],
   "source": [
    "def infer(model, device, test_loader, writer, inference_output = None):\n",
    "    test_loss = []\n",
    "    test_logloss = []\n",
    "    pred_list = None\n",
    "    label_list = None\n",
    "    model.eval()\n",
    "    with torch.no_grad():\n",
    "        for i, data in enumerate(tqdm(test_loader)):\n",
    "            UI, IU, UIUI, IUIU, UIAI1, IAIU1, UIAI2, IAIU2, UIAI3, IAIU3, labels = data\n",
    "            users = UI.detach().cpu().numpy()[:, 0, 0]\n",
    "            items = IU.detach().cpu().numpy()[:, 0, 0]\n",
    "            user = users[0]\n",
    "            item = items[0]\n",
    "            print(user, item)\n",
    "            pred, attentions = model(UI.to(device), IU.to(device),\\\n",
    "            UIUI.to(device), IUIU.to(device), \\\n",
    "            UIAI1.to(device), IAIU1.to(device), \\\n",
    "            UIAI2.to(device), IAIU2.to(device), \\\n",
    "            UIAI3.to(device), IAIU3.to(device))\n",
    "            max_path_idx = torch.argmax(attentions['path'][0])\n",
    "            if max_path_idx < 13:\n",
    "                continue\n",
    "  \n",
    "            pred = pred.detach().cpu().numpy()\n",
    "            labels = labels.numpy()\n",
    "\n",
    "            if pred_list is None:\n",
    "                pred_list = pred\n",
    "                label_list = labels\n",
    "            else:\n",
    "                pred_list = np.vstack([pred_list, pred])\n",
    "                label_list = np.vstack([label_list, labels])\n",
    "            if inference_output is not None:\n",
    "                for user, item, logit, label in zip(users, items, pred, labels):\n",
    "                    print(user, item, logit[0].item(), sep = '\\t', file = inference_output)\n",
    "                    print(user, item, logit[0].item(), sep = '\\t')\n",
    "                    if logit[0].item() > 0.70:\n",
    "                        return data, attentions"
   ]
  },
  {
   "cell_type": "code",
   "execution_count": 17,
   "metadata": {},
   "outputs": [
    {
     "name": "stderr",
     "output_type": "stream",
     "text": [
      "  0%|          | 0/1 [00:00<?, ?it/s]"
     ]
    },
    {
     "name": "stdout",
     "output_type": "stream",
     "text": [
      "878 1331\n",
      "878\t1331\t0.9999949932098389\n"
     ]
    },
    {
     "name": "stderr",
     "output_type": "stream",
     "text": [
      "\n"
     ]
    }
   ],
   "source": [
    "with open(os.path.join(args.save_dir, \"inference\", f\"jupyter_test.csv\"), 'w') as infer_out:\n",
    "    data, attention = infer(model, device, test_loader, None, infer_out)"
   ]
  },
  {
   "cell_type": "code",
   "execution_count": 18,
   "metadata": {},
   "outputs": [],
   "source": [
    "UI, IU, UIUI, IUIU, UIAI1, IAIU1, UIAI2, IAIU2, UIAI3, IAIU3, labels = data\n",
    "path = [UI, IU, UIUI, IUIU, UIAI1, IAIU1, UIAI2, IAIU2, UIAI3, IAIU3]"
   ]
  },
  {
   "cell_type": "code",
   "execution_count": 19,
   "metadata": {},
   "outputs": [],
   "source": [
    "path = [metapath.squeeze() for metapath in path]"
   ]
  },
  {
   "cell_type": "code",
   "execution_count": 20,
   "metadata": {},
   "outputs": [],
   "source": [
    "UI, IU, UIUI, IUIU, UIAI1, IAIU1, UIAI2, IAIU2, UIAI3, IAIU3 = path"
   ]
  },
  {
   "cell_type": "code",
   "execution_count": 21,
   "metadata": {},
   "outputs": [],
   "source": [
    "u_path = [metapath for i, metapath in enumerate(path) if i % 2 == 0]\n",
    "i_path = [metapath for i, metapath in enumerate(path) if i % 2 == 1]\n",
    "y_labels = ['UI', 'UIUI', 'UIAI1', 'UIAI2', 'UIAI3']\n",
    "y_labels = ['Metapath 1', 'Metapath 2', 'Metapath 3', 'Metapath 4', 'Metapath 5']\n",
    "# y_labels = ['UIxIU', 'UIUIxIUIU', 'UIAI1xIAIU1', 'UIAI2xIAIU2', 'UIAI3xIAIU3']"
   ]
  },
  {
   "cell_type": "code",
   "execution_count": 22,
   "metadata": {},
   "outputs": [],
   "source": [
    "def pad_path_matrix(path_):\n",
    "    maxLen = 0\n",
    "    for metapath in path_:\n",
    "        maxLen = max(metapath.shape[1], maxLen)\n",
    "    for idx in range(len(path_)):\n",
    "        metapath = path_[idx]\n",
    "        lenDif = maxLen - metapath.shape[1]\n",
    "        if lenDif > 0:\n",
    "            to_cat = torch.zeros((metapath.shape[0], lenDif), dtype = torch.int64)\n",
    "            path_[idx] = torch.cat([metapath, to_cat], dim = 1)\n",
    "    return torch.cat(path_) # 13*5, 4"
   ]
  },
  {
   "cell_type": "code",
   "execution_count": 23,
   "metadata": {},
   "outputs": [],
   "source": [
    "u_path = pad_path_matrix(u_path)\n",
    "i_path = pad_path_matrix(i_path)"
   ]
  },
  {
   "cell_type": "markdown",
   "metadata": {},
   "source": [
    "# attention plot"
   ]
  },
  {
   "cell_type": "markdown",
   "metadata": {},
   "source": [
    "## path attention "
   ]
  },
  {
   "cell_type": "code",
   "execution_count": 24,
   "metadata": {},
   "outputs": [
    {
     "data": {
      "text/plain": [
       "(877, 1330)"
      ]
     },
     "execution_count": 24,
     "metadata": {},
     "output_type": "execute_result"
    }
   ],
   "source": [
    "UI[0][0].item()-1,  IU[0][0].item()-1"
   ]
  },
  {
   "cell_type": "code",
   "execution_count": 25,
   "metadata": {},
   "outputs": [
    {
     "data": {
      "text/plain": [
       "('C1318973:Staphylococcus aureus infection', 'DB01327:Cefazolin')"
      ]
     },
     "execution_count": 25,
     "metadata": {},
     "output_type": "execute_result"
    }
   ],
   "source": [
    "diseases[UI[0][0].item()-1], drugs[IU[0][0].item()-1]"
   ]
  },
  {
   "cell_type": "code",
   "execution_count": 26,
   "metadata": {},
   "outputs": [],
   "source": [
    "cmap = 'gist_gray_r'\n",
    "path_per_meta = 13"
   ]
  },
  {
   "cell_type": "code",
   "execution_count": 27,
   "metadata": {},
   "outputs": [
    {
     "data": {
      "text/plain": [
       "torch.Size([5])"
      ]
     },
     "execution_count": 27,
     "metadata": {},
     "output_type": "execute_result"
    }
   ],
   "source": [
    "attention['path'][0].reshape(5,-1).to('cpu').sum(dim = 1).reshape(-1).shape"
   ]
  },
  {
   "cell_type": "code",
   "execution_count": 28,
   "metadata": {},
   "outputs": [],
   "source": [
    "firstBatchPathAttention = attention['path'][0].reshape(5,-1).to('cpu')"
   ]
  },
  {
   "cell_type": "code",
   "execution_count": 29,
   "metadata": {},
   "outputs": [
    {
     "name": "stderr",
     "output_type": "stream",
     "text": [
      "findfont: Font family ['SimHei'] not found. Falling back to DejaVu Sans.\n"
     ]
    },
    {
     "data": {
      "image/png": "[encoded data removed]",
      "text/plain": [
       "<Figure size 432x288 with 1 Axes>"
      ]
     },
     "metadata": {},
     "output_type": "display_data"
    }
   ],
   "source": [
    "ax = sns.heatmap(firstBatchPathAttention,\n",
    "                 cmap = cmap,\n",
    "                 annot=False,\n",
    "                 fmt = \".1f\",\n",
    "                 yticklabels = y_labels,\n",
    "                 cbar = False\n",
    "                )"
   ]
  },
  {
   "cell_type": "code",
   "execution_count": 30,
   "metadata": {},
   "outputs": [
    {
     "name": "stdout",
     "output_type": "stream",
     "text": [
      "tensor([ 877, 1194,  317,    1]) tensor([1330,  566, 1158,  317]) tensor(16)\n",
      "------------------------------\n",
      "877\tC1318973:Staphylococcus aureus infection\n",
      "1194\tDB01059:Norfloxacin\n",
      "317\tC0520775:Klebsiella cystitis\n",
      "1\tDB01137:Levofloxacin\n",
      "------------------------------\n",
      "1330\tDB01327:Cefazolin\n",
      "566\tC0004626:Pneumonia, Bacterial\n",
      "1158\tDB01416:Cefpodoxime\n",
      "317\tC0520775:Klebsiella cystitis\n"
     ]
    }
   ],
   "source": [
    "max_path_idx = torch.argmax(attention['path'][0])\n",
    "print(u_path[max_path_idx] - 1, i_path[max_path_idx] - 1, max_path_idx)\n",
    "print(\"-\"*30)\n",
    "for i, idx in enumerate(u_path[max_path_idx] - 1):\n",
    "    if i % 2 == 0:\n",
    "        print(idx.item(), diseases[idx], sep = '\\t')\n",
    "    else:\n",
    "        print(idx.item(), drugs[idx], sep = '\\t')\n",
    "print(\"-\"*30)\n",
    "for i, idx in enumerate(i_path[max_path_idx] - 1):\n",
    "    if i % 2 == 1:\n",
    "        print(idx.item(), diseases[idx], sep = '\\t')\n",
    "    else:\n",
    "        print(idx.item(), drugs[idx], sep = '\\t')"
   ]
  },
  {
   "cell_type": "code",
   "execution_count": 31,
   "metadata": {},
   "outputs": [
    {
     "data": {
      "text/plain": [
       "1228"
      ]
     },
     "execution_count": 31,
     "metadata": {},
     "output_type": "execute_result"
    }
   ],
   "source": [
    "max(disease2drug.keys())"
   ]
  },
  {
   "cell_type": "code",
   "execution_count": 32,
   "metadata": {
    "scrolled": true
   },
   "outputs": [
    {
     "data": {
      "text/plain": [
       "{1,\n",
       " 237,\n",
       " 238,\n",
       " 445,\n",
       " 524,\n",
       " 570,\n",
       " 571,\n",
       " 887,\n",
       " 891,\n",
       " 905,\n",
       " 939,\n",
       " 952,\n",
       " 980,\n",
       " 1031,\n",
       " 1158,\n",
       " 1194,\n",
       " 1256,\n",
       " 1302,\n",
       " 1326,\n",
       " 1342,\n",
       " 1370,\n",
       " 1385,\n",
       " 1511}"
      ]
     },
     "execution_count": 32,
     "metadata": {},
     "output_type": "execute_result"
    }
   ],
   "source": [
    "disease2drug[877] & disease2drug[317]"
   ]
  },
  {
   "cell_type": "code",
   "execution_count": 33,
   "metadata": {},
   "outputs": [
    {
     "data": {
      "text/plain": [
       "{1,\n",
       " 86,\n",
       " 445,\n",
       " 524,\n",
       " 571,\n",
       " 905,\n",
       " 939,\n",
       " 952,\n",
       " 980,\n",
       " 1031,\n",
       " 1158,\n",
       " 1194,\n",
       " 1284,\n",
       " 1302,\n",
       " 1326,\n",
       " 1370,\n",
       " 1385}"
      ]
     },
     "execution_count": 33,
     "metadata": {},
     "output_type": "execute_result"
    }
   ],
   "source": [
    "disease2drug[317] & disease2drug[566]"
   ]
  },
  {
   "cell_type": "code",
   "execution_count": 34,
   "metadata": {},
   "outputs": [
    {
     "data": {
      "text/plain": [
       "set()"
      ]
     },
     "execution_count": 34,
     "metadata": {},
     "output_type": "execute_result"
    }
   ],
   "source": [
    "drug2disease[1330] & drug2disease[877]"
   ]
  },
  {
   "cell_type": "code",
   "execution_count": 35,
   "metadata": {},
   "outputs": [
    {
     "name": "stderr",
     "output_type": "stream",
     "text": [
      "findfont: Font family ['SimHei'] not found. Falling back to DejaVu Sans.\n"
     ]
    },
    {
     "data": {
      "image/png": "[encoded data removed]",
      "text/plain": [
       "<Figure size 432x288 with 1 Axes>"
      ]
     },
     "metadata": {},
     "output_type": "display_data"
    }
   ],
   "source": [
    "ax = sns.heatmap(firstBatchPathAttention.sum(dim = 1).reshape(5, 1),\n",
    "                 cmap = cmap, \n",
    "                 annot=True, \n",
    "                 fmt = \".5f\", \n",
    "                 yticklabels = y_labels,\n",
    "                 cbar = False\n",
    "                )"
   ]
  },
  {
   "cell_type": "markdown",
   "metadata": {},
   "source": [
    "## input of path attention ( after node attention)"
   ]
  },
  {
   "cell_type": "code",
   "execution_count": 36,
   "metadata": {
    "scrolled": false
   },
   "outputs": [
    {
     "data": {
      "image/png": "[encoded data removed]",
      "text/plain": [
       "<Figure size 432x288 with 1 Axes>"
      ]
     },
     "metadata": {},
     "output_type": "display_data"
    }
   ],
   "source": [
    "node_z_shape = attention['node_Z'].shape\n",
    "node_z = attention['node_Z'].reshape(node_z_shape[0]*node_z_shape[1]*node_z_shape[2], node_z_shape[3]) # (B*L*, E)\n",
    "ax = sns.heatmap(-node_z.sum(dim = -1).reshape((5, -1)), cmap=cmap, annot=False, fmt = \".2f\",\n",
    "                 yticklabels = y_labels,\n",
    "                 cbar = False\n",
    "                ) #(B*L, 1)\n",
    "fig = ax.get_figure()\n",
    "fig.savefig(\"pathattention.png\", dpi = 400, bbox_inches='tight')"
   ]
  },
  {
   "cell_type": "markdown",
   "metadata": {},
   "source": [
    "#  Node attention"
   ]
  },
  {
   "cell_type": "code",
   "execution_count": 37,
   "metadata": {},
   "outputs": [
    {
     "data": {
      "text/plain": [
       "(5, torch.Size([13, 3, 384]), torch.Size([13, 7, 384]))"
      ]
     },
     "execution_count": 37,
     "metadata": {},
     "output_type": "execute_result"
    }
   ],
   "source": [
    "len(attention['node']), attention['node'][0].shape, attention['node'][1].shape"
   ]
  },
  {
   "cell_type": "code",
   "execution_count": 38,
   "metadata": {},
   "outputs": [
    {
     "data": {
      "text/plain": [
       "torch.Size([13, 3])"
      ]
     },
     "execution_count": 38,
     "metadata": {},
     "output_type": "execute_result"
    }
   ],
   "source": [
    "attention['node'][0].mean(dim = -1).shape"
   ]
  },
  {
   "cell_type": "code",
   "execution_count": 39,
   "metadata": {},
   "outputs": [
    {
     "data": {
      "image/png": "[encoded data removed]",
      "text/plain": [
       "<Figure size 432x288 with 2 Axes>"
      ]
     },
     "metadata": {},
     "output_type": "display_data"
    }
   ],
   "source": [
    "ax = sns.heatmap(attention['node'][0].mean(dim = -1).T, cmap=cmap, annot=False, fmt = \".0f\")"
   ]
  },
  {
   "cell_type": "code",
   "execution_count": 40,
   "metadata": {},
   "outputs": [
    {
     "ename": "NameError",
     "evalue": "name 'node_attentions' is not defined",
     "output_type": "error",
     "traceback": [
      "\u001b[0;31m---------------------------------------------------------------------------\u001b[0m",
      "\u001b[0;31mNameError\u001b[0m                                 Traceback (most recent call last)",
      "\u001b[0;32m<ipython-input-40-e0babe965a5e>\u001b[0m in \u001b[0;36m<module>\u001b[0;34m\u001b[0m\n\u001b[0;32m----> 1\u001b[0;31m \u001b[0;34m(\u001b[0m\u001b[0mpad_path_matrix\u001b[0m\u001b[0;34m(\u001b[0m\u001b[0mnode_attentions\u001b[0m\u001b[0;34m)\u001b[0m \u001b[0;34m*\u001b[0m \u001b[0mfirstBatchPathAttention\u001b[0m\u001b[0;34m.\u001b[0m\u001b[0mreshape\u001b[0m\u001b[0;34m(\u001b[0m\u001b[0;34m-\u001b[0m\u001b[0;36m1\u001b[0m\u001b[0;34m,\u001b[0m \u001b[0;36m1\u001b[0m\u001b[0;34m)\u001b[0m\u001b[0;34m)\u001b[0m\u001b[0;34m.\u001b[0m\u001b[0mT\u001b[0m\u001b[0;34m.\u001b[0m\u001b[0mshape\u001b[0m\u001b[0;34m\u001b[0m\u001b[0;34m\u001b[0m\u001b[0m\n\u001b[0m",
      "\u001b[0;31mNameError\u001b[0m: name 'node_attentions' is not defined"
     ]
    }
   ],
   "source": [
    "(pad_path_matrix(node_attentions) * firstBatchPathAttention.reshape(-1, 1)).T.shape"
   ]
  },
  {
   "cell_type": "code",
   "execution_count": 41,
   "metadata": {},
   "outputs": [
    {
     "data": {
      "image/png": "[encoded data removed]",
      "text/plain": [
       "<Figure size 432x288 with 1 Axes>"
      ]
     },
     "metadata": {},
     "output_type": "display_data"
    }
   ],
   "source": [
    "node_attentions = []\n",
    "for i, path in enumerate(attention['node']):\n",
    "#     if i == 0: continue\n",
    "    node_attentions.append(path.mean(-1))\n",
    "\n",
    "ax = sns.heatmap((pad_path_matrix(node_attentions) * firstBatchPathAttention.reshape(-1, 1)).T,\n",
    "                 cmap='gist_gray',\n",
    "                 cbar = False)"
   ]
  },
  {
   "cell_type": "code",
   "execution_count": 42,
   "metadata": {},
   "outputs": [
    {
     "data": {
      "text/plain": [
       "tensor([[6.9116e-06],\n",
       "        [4.4071e-06],\n",
       "        [3.0407e-06],\n",
       "        [9.9724e-01],\n",
       "        [4.7481e-04],\n",
       "        [7.4775e-07],\n",
       "        [8.0389e-07],\n",
       "        [1.3350e-07],\n",
       "        [1.1151e-06],\n",
       "        [1.5243e-03],\n",
       "        [4.1762e-07],\n",
       "        [3.7007e-06],\n",
       "        [7.3664e-04]])"
      ]
     },
     "execution_count": 42,
     "metadata": {},
     "output_type": "execute_result"
    }
   ],
   "source": [
    "firstBatchPathAttention[1].reshape(path_per_meta, 1)"
   ]
  },
  {
   "cell_type": "code",
   "execution_count": 43,
   "metadata": {},
   "outputs": [],
   "source": [
    "from copy import deepcopy "
   ]
  },
  {
   "cell_type": "code",
   "execution_count": 44,
   "metadata": {},
   "outputs": [
    {
     "ename": "NameError",
     "evalue": "name 'pathAtt' is not defined",
     "output_type": "error",
     "traceback": [
      "\u001b[0;31m---------------------------------------------------------------------------\u001b[0m",
      "\u001b[0;31mNameError\u001b[0m                                 Traceback (most recent call last)",
      "\u001b[0;32m<ipython-input-44-676a70a79925>\u001b[0m in \u001b[0;36m<module>\u001b[0;34m\u001b[0m\n\u001b[0;32m----> 1\u001b[0;31m \u001b[0mpathAtt\u001b[0m\u001b[0;34m\u001b[0m\u001b[0;34m\u001b[0m\u001b[0m\n\u001b[0m",
      "\u001b[0;31mNameError\u001b[0m: name 'pathAtt' is not defined"
     ]
    }
   ],
   "source": [
    "pathAtt"
   ]
  },
  {
   "cell_type": "code",
   "execution_count": 45,
   "metadata": {},
   "outputs": [
    {
     "ename": "NameError",
     "evalue": "name 'pathAtt' is not defined",
     "output_type": "error",
     "traceback": [
      "\u001b[0;31m---------------------------------------------------------------------------\u001b[0m",
      "\u001b[0;31mNameError\u001b[0m                                 Traceback (most recent call last)",
      "\u001b[0;32m<ipython-input-45-018e4d0445bd>\u001b[0m in \u001b[0;36m<module>\u001b[0;34m\u001b[0m\n\u001b[0;32m----> 1\u001b[0;31m \u001b[0mtorch\u001b[0m\u001b[0;34m.\u001b[0m\u001b[0mwhere\u001b[0m\u001b[0;34m(\u001b[0m\u001b[0mnode_attentions\u001b[0m\u001b[0;34m[\u001b[0m\u001b[0;36m1\u001b[0m\u001b[0;34m]\u001b[0m\u001b[0;34m.\u001b[0m\u001b[0mreshape\u001b[0m\u001b[0;34m(\u001b[0m\u001b[0;34m(\u001b[0m\u001b[0;34m-\u001b[0m\u001b[0;36m1\u001b[0m\u001b[0;34m,\u001b[0m\u001b[0mpath_per_meta\u001b[0m\u001b[0;34m)\u001b[0m\u001b[0;34m)\u001b[0m\u001b[0;34m*\u001b[0m \u001b[0mpathAtt\u001b[0m\u001b[0;34m.\u001b[0m\u001b[0mT\u001b[0m \u001b[0;34m<\u001b[0m \u001b[0;34m-\u001b[0m\u001b[0;36m1e-4\u001b[0m\u001b[0;34m,\u001b[0m \u001b[0mto_draw\u001b[0m\u001b[0;34m/\u001b[0m\u001b[0;36m10000\u001b[0m \u001b[0;34m,\u001b[0m \u001b[0mto_draw\u001b[0m\u001b[0;34m)\u001b[0m\u001b[0;34m\u001b[0m\u001b[0;34m\u001b[0m\u001b[0m\n\u001b[0m",
      "\u001b[0;31mNameError\u001b[0m: name 'pathAtt' is not defined"
     ]
    }
   ],
   "source": [
    "torch.where(node_attentions[1].reshape((-1,path_per_meta))* pathAtt.T < -1e-4, to_draw/10000 , to_draw)"
   ]
  },
  {
   "cell_type": "code",
   "execution_count": 55,
   "metadata": {},
   "outputs": [
    {
     "data": {
      "image/png": "[encoded data removed]",
      "text/plain": [
       "<Figure size 432x288 with 1 Axes>"
      ]
     },
     "metadata": {},
     "output_type": "display_data"
    }
   ],
   "source": [
    "pathAtt = deepcopy(firstBatchPathAttention[1].reshape(path_per_meta, 1))\n",
    "to_draw = node_attentions[1].reshape((-1,path_per_meta))* pathAtt.T\n",
    "pathAtt[3] = pathAtt[3] /100\n",
    "ax = sns.heatmap(node_attentions[1].reshape((-1,path_per_meta))* pathAtt.T,\n",
    "                 cmap='gist_gray',\n",
    "                 cbar = False\n",
    "                )\n",
    "fig = ax.get_figure()\n",
    "fig.savefig(\"interaction.png\", dpi = 400, bbox_inches='tight')"
   ]
  },
  {
   "cell_type": "code",
   "execution_count": 56,
   "metadata": {},
   "outputs": [
    {
     "data": {
      "text/plain": [
       "tensor(-0.0197)"
      ]
     },
     "execution_count": 56,
     "metadata": {},
     "output_type": "execute_result"
    }
   ],
   "source": [
    "node_attentions[1].reshape((-1,path_per_meta)).sum()"
   ]
  },
  {
   "cell_type": "code",
   "execution_count": 57,
   "metadata": {},
   "outputs": [
    {
     "data": {
      "image/png": "[encoded data removed]",
      "text/plain": [
       "<Figure size 432x288 with 1 Axes>"
      ]
     },
     "metadata": {},
     "output_type": "display_data"
    }
   ],
   "source": [
    "ax = sns.heatmap(node_attentions[1].reshape((-1,path_per_meta)),# * firstBatchPathAttention[1].reshape(path_per_meta, 1).T,\n",
    "                 cmap='gist_gray',\n",
    "                 cbar = False\n",
    "                )\n",
    "fig = ax.get_figure()\n",
    "fig.savefig(\"interaction_with_path_attention.png\", dpi = 400, bbox_inches='tight')"
   ]
  }
 ],
 "metadata": {
  "kernelspec": {
   "display_name": "Python 3",
   "language": "python",
   "name": "python3"
  },
  "language_info": {
   "codemirror_mode": {
    "name": "ipython",
    "version": 3
   },
   "file_extension": ".py",
   "mimetype": "text/x-python",
   "name": "python",
   "nbconvert_exporter": "python",
   "pygments_lexer": "ipython3",
   "version": "3.8.3"
  }
 },
 "nbformat": 4,
 "nbformat_minor": 5
}
