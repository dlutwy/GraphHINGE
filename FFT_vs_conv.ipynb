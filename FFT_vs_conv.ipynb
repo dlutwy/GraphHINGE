{
 "cells": [
  {
   "cell_type": "code",
   "execution_count": 1,
   "metadata": {},
   "outputs": [],
   "source": [
    "import torch"
   ]
  },
  {
   "cell_type": "code",
   "execution_count": 2,
   "metadata": {},
   "outputs": [],
   "source": [
    "shape = (2,3,4,2) # B*L*E*N\n",
    "range_num = 1\n",
    "for i in shape:\n",
    "    range_num *= i\n",
    "s = torch.Tensor(range(range_num)).reshape(shape)\n",
    "t = torch.Tensor([ list(reversed(list(a3))) for a1 in s for a2 in a1 for a3 in a2 ])\n",
    "t = t.reshape(shape)"
   ]
  },
  {
   "cell_type": "markdown",
   "metadata": {},
   "source": [
    "# conv "
   ]
  },
  {
   "cell_type": "code",
   "execution_count": 3,
   "metadata": {},
   "outputs": [],
   "source": [
    "hs = s.reshape((1,s.shape[0]*s.shape[1]*s.shape[2],s.shape[3]))\n",
    "ht = t.reshape((t.shape[0]*t.shape[1]*t.shape[2],1,t.shape[3]))\n",
    "h = torch.nn.functional.conv1d(hs, ht, groups = ht.shape[0], padding=1)"
   ]
  },
  {
   "cell_type": "code",
   "execution_count": 4,
   "metadata": {
    "collapsed": true,
    "jupyter": {
     "outputs_hidden": true
    },
    "tags": []
   },
   "outputs": [
    {
     "data": {
      "text/plain": [
       "tensor([[[ 0.,  1.],\n",
       "         [ 2.,  3.],\n",
       "         [ 4.,  5.],\n",
       "         [ 6.,  7.],\n",
       "         [ 8.,  9.],\n",
       "         [10., 11.],\n",
       "         [12., 13.],\n",
       "         [14., 15.],\n",
       "         [16., 17.],\n",
       "         [18., 19.],\n",
       "         [20., 21.],\n",
       "         [22., 23.],\n",
       "         [24., 25.],\n",
       "         [26., 27.],\n",
       "         [28., 29.],\n",
       "         [30., 31.],\n",
       "         [32., 33.],\n",
       "         [34., 35.],\n",
       "         [36., 37.],\n",
       "         [38., 39.],\n",
       "         [40., 41.],\n",
       "         [42., 43.],\n",
       "         [44., 45.],\n",
       "         [46., 47.]]])"
      ]
     },
     "execution_count": 4,
     "metadata": {},
     "output_type": "execute_result"
    }
   ],
   "source": [
    "hs"
   ]
  },
  {
   "cell_type": "code",
   "execution_count": 5,
   "metadata": {},
   "outputs": [
    {
     "data": {
      "text/plain": [
       "tensor([[[ 1.,  0.]],\n",
       "\n",
       "        [[ 3.,  2.]],\n",
       "\n",
       "        [[ 5.,  4.]],\n",
       "\n",
       "        [[ 7.,  6.]],\n",
       "\n",
       "        [[ 9.,  8.]],\n",
       "\n",
       "        [[11., 10.]],\n",
       "\n",
       "        [[13., 12.]],\n",
       "\n",
       "        [[15., 14.]],\n",
       "\n",
       "        [[17., 16.]],\n",
       "\n",
       "        [[19., 18.]],\n",
       "\n",
       "        [[21., 20.]],\n",
       "\n",
       "        [[23., 22.]],\n",
       "\n",
       "        [[25., 24.]],\n",
       "\n",
       "        [[27., 26.]],\n",
       "\n",
       "        [[29., 28.]],\n",
       "\n",
       "        [[31., 30.]],\n",
       "\n",
       "        [[33., 32.]],\n",
       "\n",
       "        [[35., 34.]],\n",
       "\n",
       "        [[37., 36.]],\n",
       "\n",
       "        [[39., 38.]],\n",
       "\n",
       "        [[41., 40.]],\n",
       "\n",
       "        [[43., 42.]],\n",
       "\n",
       "        [[45., 44.]],\n",
       "\n",
       "        [[47., 46.]]])"
      ]
     },
     "execution_count": 5,
     "metadata": {},
     "output_type": "execute_result"
    }
   ],
   "source": [
    "ht"
   ]
  },
  {
   "cell_type": "code",
   "execution_count": 6,
   "metadata": {},
   "outputs": [
    {
     "data": {
      "text/plain": [
       "torch.Size([1, 24, 2])"
      ]
     },
     "execution_count": 6,
     "metadata": {},
     "output_type": "execute_result"
    }
   ],
   "source": [
    "hs.shape"
   ]
  },
  {
   "cell_type": "code",
   "execution_count": 7,
   "metadata": {},
   "outputs": [
    {
     "data": {
      "text/plain": [
       "torch.Size([1, 24, 3])"
      ]
     },
     "execution_count": 7,
     "metadata": {},
     "output_type": "execute_result"
    }
   ],
   "source": [
    "h.shape"
   ]
  },
  {
   "cell_type": "code",
   "execution_count": 8,
   "metadata": {},
   "outputs": [],
   "source": [
    "h = h.squeeze(0)"
   ]
  },
  {
   "cell_type": "code",
   "execution_count": 9,
   "metadata": {},
   "outputs": [
    {
     "data": {
      "text/plain": [
       "(2, 3, 4, 3)"
      ]
     },
     "execution_count": 9,
     "metadata": {},
     "output_type": "execute_result"
    }
   ],
   "source": [
    "s.shape[0],s.shape[1],s.shape[2],h.shape[1]"
   ]
  },
  {
   "cell_type": "code",
   "execution_count": 10,
   "metadata": {},
   "outputs": [
    {
     "data": {
      "text/plain": [
       "torch.Size([2, 3, 3, 4])"
      ]
     },
     "execution_count": 10,
     "metadata": {},
     "output_type": "execute_result"
    }
   ],
   "source": [
    "h = h.reshape(s.shape[0],s.shape[1],s.shape[2],h.shape[1]).permute(0,1,3,2)\n",
    "h.shape #B*L*(Ns+Nt-1)*E"
   ]
  },
  {
   "cell_type": "code",
   "execution_count": 11,
   "metadata": {},
   "outputs": [
    {
     "data": {
      "text/plain": [
       "tensor([[[[0.0000e+00, 4.0000e+00, 1.6000e+01, 3.6000e+01],\n",
       "          [0.0000e+00, 1.2000e+01, 4.0000e+01, 8.4000e+01],\n",
       "          [1.0000e+00, 9.0000e+00, 2.5000e+01, 4.9000e+01]],\n",
       "\n",
       "         [[6.4000e+01, 1.0000e+02, 1.4400e+02, 1.9600e+02],\n",
       "          [1.4400e+02, 2.2000e+02, 3.1200e+02, 4.2000e+02],\n",
       "          [8.1000e+01, 1.2100e+02, 1.6900e+02, 2.2500e+02]],\n",
       "\n",
       "         [[2.5600e+02, 3.2400e+02, 4.0000e+02, 4.8400e+02],\n",
       "          [5.4400e+02, 6.8400e+02, 8.4000e+02, 1.0120e+03],\n",
       "          [2.8900e+02, 3.6100e+02, 4.4100e+02, 5.2900e+02]]],\n",
       "\n",
       "\n",
       "        [[[5.7600e+02, 6.7600e+02, 7.8400e+02, 9.0000e+02],\n",
       "          [1.2000e+03, 1.4040e+03, 1.6240e+03, 1.8600e+03],\n",
       "          [6.2500e+02, 7.2900e+02, 8.4100e+02, 9.6100e+02]],\n",
       "\n",
       "         [[1.0240e+03, 1.1560e+03, 1.2960e+03, 1.4440e+03],\n",
       "          [2.1120e+03, 2.3800e+03, 2.6640e+03, 2.9640e+03],\n",
       "          [1.0890e+03, 1.2250e+03, 1.3690e+03, 1.5210e+03]],\n",
       "\n",
       "         [[1.6000e+03, 1.7640e+03, 1.9360e+03, 2.1160e+03],\n",
       "          [3.2800e+03, 3.6120e+03, 3.9600e+03, 4.3240e+03],\n",
       "          [1.6810e+03, 1.8490e+03, 2.0250e+03, 2.2090e+03]]]])"
      ]
     },
     "execution_count": 11,
     "metadata": {},
     "output_type": "execute_result"
    }
   ],
   "source": [
    "h"
   ]
  },
  {
   "cell_type": "markdown",
   "metadata": {},
   "source": [
    "# fft"
   ]
  },
  {
   "cell_type": "code",
   "execution_count": 12,
   "metadata": {},
   "outputs": [],
   "source": [
    "from torch.fft import fft, ifft"
   ]
  },
  {
   "cell_type": "code",
   "execution_count": 13,
   "metadata": {},
   "outputs": [
    {
     "name": "stderr",
     "output_type": "stream",
     "text": [
      "<ipython-input-13-3d1f4345e411>:6: UserWarning: Casting complex values to real discards the imaginary part (Triggered internally at  /opt/conda/conda-bld/pytorch_1614378083779/work/aten/src/ATen/native/Copy.cpp:219.)\n",
      "  h = h.permute(0,1,3,2).float() #B*L*(Is+It-1)*E\n"
     ]
    }
   ],
   "source": [
    "length = s.shape[-1] + t.shape[-1] -1\n",
    "s_ = fft(s, n=length)\n",
    "t_ = fft(t, n=length)\n",
    "h = s_*t_\n",
    "h = ifft(h)\n",
    "h = h.permute(0,1,3,2).float() #B*L*(Is+It-1)*E"
   ]
  },
  {
   "cell_type": "code",
   "execution_count": 14,
   "metadata": {},
   "outputs": [
    {
     "data": {
      "text/plain": [
       "3"
      ]
     },
     "execution_count": 14,
     "metadata": {},
     "output_type": "execute_result"
    }
   ],
   "source": [
    "length"
   ]
  },
  {
   "cell_type": "code",
   "execution_count": 15,
   "metadata": {},
   "outputs": [
    {
     "data": {
      "text/plain": [
       "tensor([[[[0.0000e+00, 6.0000e+00, 2.0000e+01, 4.2000e+01],\n",
       "          [1.0000e+00, 1.3000e+01, 4.1000e+01, 8.5000e+01],\n",
       "          [1.7948e-08, 6.0000e+00, 2.0000e+01, 4.2000e+01]],\n",
       "\n",
       "         [[7.2000e+01, 1.1000e+02, 1.5600e+02, 2.1000e+02],\n",
       "          [1.4500e+02, 2.2100e+02, 3.1300e+02, 4.2100e+02],\n",
       "          [7.2000e+01, 1.1000e+02, 1.5600e+02, 2.1000e+02]],\n",
       "\n",
       "         [[2.7200e+02, 3.4200e+02, 4.2000e+02, 5.0600e+02],\n",
       "          [5.4500e+02, 6.8500e+02, 8.4100e+02, 1.0130e+03],\n",
       "          [2.7200e+02, 3.4200e+02, 4.2000e+02, 5.0600e+02]]],\n",
       "\n",
       "\n",
       "        [[[6.0000e+02, 7.0200e+02, 8.1200e+02, 9.3000e+02],\n",
       "          [1.2010e+03, 1.4050e+03, 1.6250e+03, 1.8610e+03],\n",
       "          [6.0000e+02, 7.0200e+02, 8.1200e+02, 9.3000e+02]],\n",
       "\n",
       "         [[1.0560e+03, 1.1900e+03, 1.3320e+03, 1.4820e+03],\n",
       "          [2.1130e+03, 2.3810e+03, 2.6650e+03, 2.9650e+03],\n",
       "          [1.0560e+03, 1.1900e+03, 1.3320e+03, 1.4820e+03]],\n",
       "\n",
       "         [[1.6400e+03, 1.8060e+03, 1.9800e+03, 2.1620e+03],\n",
       "          [3.2810e+03, 3.6130e+03, 3.9610e+03, 4.3250e+03],\n",
       "          [1.6400e+03, 1.8060e+03, 1.9800e+03, 2.1620e+03]]]])"
      ]
     },
     "execution_count": 15,
     "metadata": {},
     "output_type": "execute_result"
    }
   ],
   "source": [
    "h"
   ]
  },
  {
   "cell_type": "code",
   "execution_count": null,
   "metadata": {},
   "outputs": [],
   "source": []
  }
 ],
 "metadata": {
  "kernelspec": {
   "display_name": "Python 3",
   "language": "python",
   "name": "python3"
  },
  "language_info": {
   "codemirror_mode": {
    "name": "ipython",
    "version": 3
   },
   "file_extension": ".py",
   "mimetype": "text/x-python",
   "name": "python",
   "nbconvert_exporter": "python",
   "pygments_lexer": "ipython3",
   "version": "3.8.8"
  }
 },
 "nbformat": 4,
 "nbformat_minor": 4
}
